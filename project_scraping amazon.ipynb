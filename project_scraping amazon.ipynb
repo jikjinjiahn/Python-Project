{
 "cells": [
  {
   "cell_type": "code",
   "execution_count": 1,
   "id": "04787620",
   "metadata": {},
   "outputs": [],
   "source": [
    "from bs4 import BeautifulSoup\n",
    "import requests"
   ]
  },
  {
   "cell_type": "code",
   "execution_count": 4,
   "id": "263f2b4c",
   "metadata": {},
   "outputs": [
    {
     "name": "stdout",
     "output_type": "stream",
     "text": [
      "<Response [200]>\n"
     ]
    }
   ],
   "source": [
    "url = 'https://www.amazon.com/Funny-Data-Systems-Business-Analyst/dp/B07FNW9FGJ/ref=sr_1_6?crid=3JJ87SJKW7XWL&dib=eyJ2IjoiMSJ9.0_6zq-uwL28T8elXT2mpt6NnXCG8ymW3A0Y4LyvFWDjwyjov2lIHXKTri5nyM4stiduInXMrf2_9xypdNsf3zknSiCbKLS0jn4K0m4UkVYHqR5yKWgHTCFI7yzov_gL9v25mJOqXOpDEceGRhObpPNstA16F1yrDZDBe7PoEQysPvaL6C6GvBrbexM8Up7D9h4n1H7mjMdbcexsIM2OBssOupPmihq6rnYmR1CUfh4-QGSuUGSs7SZxunAsTsGvyZpEWw6d3vSfo2bCkFzY1MkdXQUwa8WLwMmouvGxreVM.Y9cY3dmlk6x83p8hpknIhX6HlmsrtPDDI2RAplmnjT8&dib_tag=se&keywords=data%2Banalyst%2Btshirt&qid=1715447148&sprefix=%2Caps%2C75&sr=8-6'\n",
    "headers = {\"User-Agent\": \"Mozilla/5.0 (Windows NT 10.0; Win64; x64) AppleWebKit/537.36 (KHTML, like Gecko) Chrome/124.0.0.0 Safari/537.36\",\n",
    "           \"Accept-Language\": \"ko-KR,ko;q=0.9,en-US;q=0.8,en;q=0.7,ja;q=0.6\"}\n",
    "response = requests.get(url, headers=headers)\n",
    "print(response)"
   ]
  },
  {
   "cell_type": "code",
   "execution_count": 5,
   "id": "8570113e",
   "metadata": {},
   "outputs": [],
   "source": [
    "soup = BeautifulSoup(response.text, 'lxml')\n",
    "# print(soup)"
   ]
  },
  {
   "cell_type": "code",
   "execution_count": 18,
   "id": "86c35676",
   "metadata": {
    "scrolled": true
   },
   "outputs": [
    {
     "name": "stdout",
     "output_type": "stream",
     "text": [
      "Funny Got Data MIS Data Systems Business Analyst T-Shirt\n"
     ]
    }
   ],
   "source": [
    "title_element = soup.select_one('#productTitle')\n",
    "title = title_element.text.strip()\n",
    "print(title)"
   ]
  },
  {
   "cell_type": "code",
   "execution_count": 19,
   "id": "f4a97754",
   "metadata": {
    "scrolled": true
   },
   "outputs": [
    {
     "name": "stdout",
     "output_type": "stream",
     "text": [
      " $16.99\n"
     ]
    }
   ],
   "source": [
    "price = soup.select_one('span.a-price')\n",
    "price = price.text\n",
    "print(price)"
   ]
  },
  {
   "cell_type": "code",
   "execution_count": 8,
   "id": "434ad6d6",
   "metadata": {},
   "outputs": [
    {
     "name": "stdout",
     "output_type": "stream",
     "text": [
      "2024-05-16\n"
     ]
    }
   ],
   "source": [
    "import datetime\n",
    "\n",
    "today = datetime.date.today()\n",
    "print(today)"
   ]
  },
  {
   "cell_type": "code",
   "execution_count": 9,
   "id": "1c2f1f4f",
   "metadata": {},
   "outputs": [],
   "source": [
    "import csv\n",
    "\n",
    "header = ['Title', 'Price', 'Date']\n",
    "data = [title, price, today]\n",
    "\n",
    "# with open('AmazoneScrapingDataset.csv', 'w', newline='', encoding='UTF8') as f:\n",
    "#     writer = csv.writer(f)\n",
    "#     writer.writerow(header)\n",
    "#     writer.writerow(data)"
   ]
  },
  {
   "cell_type": "code",
   "execution_count": 10,
   "id": "cb05f507",
   "metadata": {},
   "outputs": [
    {
     "data": {
      "text/html": [
       "<div>\n",
       "<style scoped>\n",
       "    .dataframe tbody tr th:only-of-type {\n",
       "        vertical-align: middle;\n",
       "    }\n",
       "\n",
       "    .dataframe tbody tr th {\n",
       "        vertical-align: top;\n",
       "    }\n",
       "\n",
       "    .dataframe thead th {\n",
       "        text-align: right;\n",
       "    }\n",
       "</style>\n",
       "<table border=\"1\" class=\"dataframe\">\n",
       "  <thead>\n",
       "    <tr style=\"text-align: right;\">\n",
       "      <th></th>\n",
       "      <th>Title</th>\n",
       "      <th>Price</th>\n",
       "      <th>Date</th>\n",
       "    </tr>\n",
       "  </thead>\n",
       "  <tbody>\n",
       "    <tr>\n",
       "      <th>0</th>\n",
       "      <td>Funny Got Data MIS Data Systems Business Analy...</td>\n",
       "      <td>$16.99</td>\n",
       "      <td>2024-05-13</td>\n",
       "    </tr>\n",
       "    <tr>\n",
       "      <th>1</th>\n",
       "      <td>Funny Got Data MIS Data Systems Business Analy...</td>\n",
       "      <td>$16.99</td>\n",
       "      <td>2024-05-13</td>\n",
       "    </tr>\n",
       "    <tr>\n",
       "      <th>2</th>\n",
       "      <td>Funny Got Data MIS Data Systems Business Analy...</td>\n",
       "      <td>$16.99</td>\n",
       "      <td>2024-05-13</td>\n",
       "    </tr>\n",
       "    <tr>\n",
       "      <th>3</th>\n",
       "      <td>Funny Got Data MIS Data Systems Business Analy...</td>\n",
       "      <td>$16.99</td>\n",
       "      <td>2024-05-13</td>\n",
       "    </tr>\n",
       "    <tr>\n",
       "      <th>4</th>\n",
       "      <td>Funny Got Data MIS Data Systems Business Analy...</td>\n",
       "      <td>$16.99</td>\n",
       "      <td>2024-05-13</td>\n",
       "    </tr>\n",
       "    <tr>\n",
       "      <th>5</th>\n",
       "      <td>Funny Got Data MIS Data Systems Business Analy...</td>\n",
       "      <td>$16.99</td>\n",
       "      <td>2024-05-13</td>\n",
       "    </tr>\n",
       "    <tr>\n",
       "      <th>6</th>\n",
       "      <td>Funny Got Data MIS Data Systems Business Analy...</td>\n",
       "      <td>$16.99</td>\n",
       "      <td>2024-05-13</td>\n",
       "    </tr>\n",
       "    <tr>\n",
       "      <th>7</th>\n",
       "      <td>Funny Got Data MIS Data Systems Business Analy...</td>\n",
       "      <td>$16.99</td>\n",
       "      <td>2024-05-13</td>\n",
       "    </tr>\n",
       "    <tr>\n",
       "      <th>8</th>\n",
       "      <td>Funny Got Data MIS Data Systems Business Analy...</td>\n",
       "      <td>$16.99</td>\n",
       "      <td>2024-05-13</td>\n",
       "    </tr>\n",
       "    <tr>\n",
       "      <th>9</th>\n",
       "      <td>Funny Got Data MIS Data Systems Business Analy...</td>\n",
       "      <td>$16.99</td>\n",
       "      <td>2024-05-16</td>\n",
       "    </tr>\n",
       "    <tr>\n",
       "      <th>10</th>\n",
       "      <td>Funny Got Data MIS Data Systems Business Analy...</td>\n",
       "      <td>$16.99</td>\n",
       "      <td>2024-05-16</td>\n",
       "    </tr>\n",
       "    <tr>\n",
       "      <th>11</th>\n",
       "      <td>Funny Got Data MIS Data Systems Business Analy...</td>\n",
       "      <td>$16.99</td>\n",
       "      <td>2024-05-16</td>\n",
       "    </tr>\n",
       "    <tr>\n",
       "      <th>12</th>\n",
       "      <td>Funny Got Data MIS Data Systems Business Analy...</td>\n",
       "      <td>$16.99</td>\n",
       "      <td>2024-05-16</td>\n",
       "    </tr>\n",
       "  </tbody>\n",
       "</table>\n",
       "</div>"
      ],
      "text/plain": [
       "                                                Title    Price        Date\n",
       "0   Funny Got Data MIS Data Systems Business Analy...   $16.99  2024-05-13\n",
       "1   Funny Got Data MIS Data Systems Business Analy...   $16.99  2024-05-13\n",
       "2   Funny Got Data MIS Data Systems Business Analy...   $16.99  2024-05-13\n",
       "3   Funny Got Data MIS Data Systems Business Analy...   $16.99  2024-05-13\n",
       "4   Funny Got Data MIS Data Systems Business Analy...   $16.99  2024-05-13\n",
       "5   Funny Got Data MIS Data Systems Business Analy...   $16.99  2024-05-13\n",
       "6   Funny Got Data MIS Data Systems Business Analy...   $16.99  2024-05-13\n",
       "7   Funny Got Data MIS Data Systems Business Analy...   $16.99  2024-05-13\n",
       "8   Funny Got Data MIS Data Systems Business Analy...   $16.99  2024-05-13\n",
       "9   Funny Got Data MIS Data Systems Business Analy...   $16.99  2024-05-16\n",
       "10  Funny Got Data MIS Data Systems Business Analy...   $16.99  2024-05-16\n",
       "11  Funny Got Data MIS Data Systems Business Analy...   $16.99  2024-05-16\n",
       "12  Funny Got Data MIS Data Systems Business Analy...   $16.99  2024-05-16"
      ]
     },
     "execution_count": 10,
     "metadata": {},
     "output_type": "execute_result"
    }
   ],
   "source": [
    "import pandas as pd\n",
    "\n",
    "df = pd.read_csv(r\"C:\\Users\\comra\\Jupyter Project\\Alex_project\\AmazoneScrapingDataset.csv\")\n",
    "\n",
    "df"
   ]
  },
  {
   "cell_type": "markdown",
   "id": "d06516a2",
   "metadata": {},
   "source": [
    "##### ※ code to append new data into the existing csv file"
   ]
  },
  {
   "cell_type": "code",
   "execution_count": 11,
   "id": "7425efd8",
   "metadata": {},
   "outputs": [],
   "source": [
    "with open('AmazoneScrapingDataset.csv', 'a+', newline='', encoding='UTF8') as f:\n",
    "    writer = csv.writer(f)\n",
    "    writer.writerow(data)"
   ]
  },
  {
   "cell_type": "markdown",
   "id": "5aea6945",
   "metadata": {},
   "source": [
    "##### ※ creating a function to carry out the above codes"
   ]
  },
  {
   "cell_type": "code",
   "execution_count": 12,
   "id": "a47454c1",
   "metadata": {},
   "outputs": [],
   "source": [
    "def check_price():\n",
    "    url = 'https://www.amazon.com/Funny-Data-Systems-Business-Analyst/dp/B07FNW9FGJ/ref=sr_1_6?crid=3JJ87SJKW7XWL&dib=eyJ2IjoiMSJ9.0_6zq-uwL28T8elXT2mpt6NnXCG8ymW3A0Y4LyvFWDjwyjov2lIHXKTri5nyM4stiduInXMrf2_9xypdNsf3zknSiCbKLS0jn4K0m4UkVYHqR5yKWgHTCFI7yzov_gL9v25mJOqXOpDEceGRhObpPNstA16F1yrDZDBe7PoEQysPvaL6C6GvBrbexM8Up7D9h4n1H7mjMdbcexsIM2OBssOupPmihq6rnYmR1CUfh4-QGSuUGSs7SZxunAsTsGvyZpEWw6d3vSfo2bCkFzY1MkdXQUwa8WLwMmouvGxreVM.Y9cY3dmlk6x83p8hpknIhX6HlmsrtPDDI2RAplmnjT8&dib_tag=se&keywords=data%2Banalyst%2Btshirt&qid=1715447148&sprefix=%2Caps%2C75&sr=8-6'\n",
    "    headers = {\"User-Agent\": \"Mozilla/5.0 (Windows NT 10.0; Win64; x64) AppleWebKit/537.36 (KHTML, like Gecko) Chrome/124.0.0.0 Safari/537.36\",\n",
    "               \"Accept-Language\": \"ko-KR,ko;q=0.9,en-US;q=0.8,en;q=0.7,ja;q=0.6\"}\n",
    "    response = requests.get(url, headers=headers)\n",
    "    \n",
    "    soup = BeautifulSoup(response.text, 'lxml')\n",
    "    \n",
    "    title_element = soup.select_one('#productTitle')\n",
    "    title = title_element.text.strip()\n",
    "    \n",
    "    price = soup.select_one('span.a-price')\n",
    "    price = price.text\n",
    "    \n",
    "    import datetime\n",
    "    today = datetime.date.today()\n",
    "    \n",
    "    import csv\n",
    "    header = ['Title', 'Price', 'Date']\n",
    "    data = [title, price, today]\n",
    "    \n",
    "    with open('AmazoneScrapingDataset.csv', 'a+', newline='', encoding='UTF8') as f:\n",
    "        writer = csv.writer(f)\n",
    "        writer.writerow(data)"
   ]
  },
  {
   "cell_type": "markdown",
   "id": "df43e371",
   "metadata": {},
   "source": [
    "##### ※ creating automating procedure through time.sleep( )"
   ]
  },
  {
   "cell_type": "code",
   "execution_count": 13,
   "id": "c50e6992",
   "metadata": {},
   "outputs": [],
   "source": [
    "import time"
   ]
  },
  {
   "cell_type": "code",
   "execution_count": 29,
   "id": "0687e998",
   "metadata": {
    "scrolled": true
   },
   "outputs": [
    {
     "ename": "KeyboardInterrupt",
     "evalue": "",
     "output_type": "error",
     "traceback": [
      "\u001b[1;31m---------------------------------------------------------------------------\u001b[0m",
      "\u001b[1;31mKeyboardInterrupt\u001b[0m                         Traceback (most recent call last)",
      "Cell \u001b[1;32mIn[29], line 3\u001b[0m\n\u001b[0;32m      1\u001b[0m \u001b[38;5;28;01mwhile\u001b[39;00m(\u001b[38;5;28;01mTrue\u001b[39;00m):\n\u001b[0;32m      2\u001b[0m     check_price()\n\u001b[1;32m----> 3\u001b[0m     time\u001b[38;5;241m.\u001b[39msleep(\u001b[38;5;241m5\u001b[39m)\n",
      "\u001b[1;31mKeyboardInterrupt\u001b[0m: "
     ]
    }
   ],
   "source": [
    "while(True):\n",
    "    check_price()\n",
    "    time.sleep(5)    # every 5 sec, check_price function is carried out"
   ]
  },
  {
   "cell_type": "code",
   "execution_count": 22,
   "id": "af4ce47d",
   "metadata": {},
   "outputs": [
    {
     "data": {
      "text/html": [
       "<div>\n",
       "<style scoped>\n",
       "    .dataframe tbody tr th:only-of-type {\n",
       "        vertical-align: middle;\n",
       "    }\n",
       "\n",
       "    .dataframe tbody tr th {\n",
       "        vertical-align: top;\n",
       "    }\n",
       "\n",
       "    .dataframe thead th {\n",
       "        text-align: right;\n",
       "    }\n",
       "</style>\n",
       "<table border=\"1\" class=\"dataframe\">\n",
       "  <thead>\n",
       "    <tr style=\"text-align: right;\">\n",
       "      <th></th>\n",
       "      <th>Title</th>\n",
       "      <th>Price</th>\n",
       "      <th>Date</th>\n",
       "    </tr>\n",
       "  </thead>\n",
       "  <tbody>\n",
       "    <tr>\n",
       "      <th>0</th>\n",
       "      <td>Funny Got Data MIS Data Systems Business Analy...</td>\n",
       "      <td>$16.99</td>\n",
       "      <td>2024-05-13</td>\n",
       "    </tr>\n",
       "    <tr>\n",
       "      <th>1</th>\n",
       "      <td>Funny Got Data MIS Data Systems Business Analy...</td>\n",
       "      <td>$16.99</td>\n",
       "      <td>2024-05-13</td>\n",
       "    </tr>\n",
       "    <tr>\n",
       "      <th>2</th>\n",
       "      <td>Funny Got Data MIS Data Systems Business Analy...</td>\n",
       "      <td>$16.99</td>\n",
       "      <td>2024-05-13</td>\n",
       "    </tr>\n",
       "    <tr>\n",
       "      <th>3</th>\n",
       "      <td>Funny Got Data MIS Data Systems Business Analy...</td>\n",
       "      <td>$16.99</td>\n",
       "      <td>2024-05-13</td>\n",
       "    </tr>\n",
       "    <tr>\n",
       "      <th>4</th>\n",
       "      <td>Funny Got Data MIS Data Systems Business Analy...</td>\n",
       "      <td>$16.99</td>\n",
       "      <td>2024-05-13</td>\n",
       "    </tr>\n",
       "    <tr>\n",
       "      <th>5</th>\n",
       "      <td>Funny Got Data MIS Data Systems Business Analy...</td>\n",
       "      <td>$16.99</td>\n",
       "      <td>2024-05-13</td>\n",
       "    </tr>\n",
       "    <tr>\n",
       "      <th>6</th>\n",
       "      <td>Funny Got Data MIS Data Systems Business Analy...</td>\n",
       "      <td>$16.99</td>\n",
       "      <td>2024-05-13</td>\n",
       "    </tr>\n",
       "    <tr>\n",
       "      <th>7</th>\n",
       "      <td>Funny Got Data MIS Data Systems Business Analy...</td>\n",
       "      <td>$16.99</td>\n",
       "      <td>2024-05-13</td>\n",
       "    </tr>\n",
       "    <tr>\n",
       "      <th>8</th>\n",
       "      <td>Funny Got Data MIS Data Systems Business Analy...</td>\n",
       "      <td>$16.99</td>\n",
       "      <td>2024-05-13</td>\n",
       "    </tr>\n",
       "    <tr>\n",
       "      <th>9</th>\n",
       "      <td>Funny Got Data MIS Data Systems Business Analy...</td>\n",
       "      <td>$16.99</td>\n",
       "      <td>2024-05-16</td>\n",
       "    </tr>\n",
       "    <tr>\n",
       "      <th>10</th>\n",
       "      <td>Funny Got Data MIS Data Systems Business Analy...</td>\n",
       "      <td>$16.99</td>\n",
       "      <td>2024-05-16</td>\n",
       "    </tr>\n",
       "    <tr>\n",
       "      <th>11</th>\n",
       "      <td>Funny Got Data MIS Data Systems Business Analy...</td>\n",
       "      <td>$16.99</td>\n",
       "      <td>2024-05-16</td>\n",
       "    </tr>\n",
       "    <tr>\n",
       "      <th>12</th>\n",
       "      <td>Funny Got Data MIS Data Systems Business Analy...</td>\n",
       "      <td>$16.99</td>\n",
       "      <td>2024-05-16</td>\n",
       "    </tr>\n",
       "    <tr>\n",
       "      <th>13</th>\n",
       "      <td>Funny Got Data MIS Data Systems Business Analy...</td>\n",
       "      <td>$16.99</td>\n",
       "      <td>2024-05-16</td>\n",
       "    </tr>\n",
       "    <tr>\n",
       "      <th>14</th>\n",
       "      <td>Funny Got Data MIS Data Systems Business Analy...</td>\n",
       "      <td>$16.99</td>\n",
       "      <td>2024-05-16</td>\n",
       "    </tr>\n",
       "  </tbody>\n",
       "</table>\n",
       "</div>"
      ],
      "text/plain": [
       "                                                Title    Price        Date\n",
       "0   Funny Got Data MIS Data Systems Business Analy...   $16.99  2024-05-13\n",
       "1   Funny Got Data MIS Data Systems Business Analy...   $16.99  2024-05-13\n",
       "2   Funny Got Data MIS Data Systems Business Analy...   $16.99  2024-05-13\n",
       "3   Funny Got Data MIS Data Systems Business Analy...   $16.99  2024-05-13\n",
       "4   Funny Got Data MIS Data Systems Business Analy...   $16.99  2024-05-13\n",
       "5   Funny Got Data MIS Data Systems Business Analy...   $16.99  2024-05-13\n",
       "6   Funny Got Data MIS Data Systems Business Analy...   $16.99  2024-05-13\n",
       "7   Funny Got Data MIS Data Systems Business Analy...   $16.99  2024-05-13\n",
       "8   Funny Got Data MIS Data Systems Business Analy...   $16.99  2024-05-13\n",
       "9   Funny Got Data MIS Data Systems Business Analy...   $16.99  2024-05-16\n",
       "10  Funny Got Data MIS Data Systems Business Analy...   $16.99  2024-05-16\n",
       "11  Funny Got Data MIS Data Systems Business Analy...   $16.99  2024-05-16\n",
       "12  Funny Got Data MIS Data Systems Business Analy...   $16.99  2024-05-16\n",
       "13  Funny Got Data MIS Data Systems Business Analy...   $16.99  2024-05-16\n",
       "14  Funny Got Data MIS Data Systems Business Analy...   $16.99  2024-05-16"
      ]
     },
     "execution_count": 22,
     "metadata": {},
     "output_type": "execute_result"
    }
   ],
   "source": [
    "df = pd.read_csv(r\"C:\\Users\\comra\\Jupyter Project\\Alex_project\\AmazoneScrapingDataset.csv\")\n",
    "\n",
    "df"
   ]
  },
  {
   "cell_type": "code",
   "execution_count": null,
   "id": "ab786820",
   "metadata": {},
   "outputs": [],
   "source": []
  },
  {
   "cell_type": "code",
   "execution_count": null,
   "id": "fe72a2b7",
   "metadata": {},
   "outputs": [],
   "source": []
  }
 ],
 "metadata": {
  "kernelspec": {
   "display_name": "Python 3 (ipykernel)",
   "language": "python",
   "name": "python3"
  },
  "language_info": {
   "codemirror_mode": {
    "name": "ipython",
    "version": 3
   },
   "file_extension": ".py",
   "mimetype": "text/x-python",
   "name": "python",
   "nbconvert_exporter": "python",
   "pygments_lexer": "ipython3",
   "version": "3.11.3"
  }
 },
 "nbformat": 4,
 "nbformat_minor": 5
}
